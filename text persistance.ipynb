{
 "cells": [
  {
   "cell_type": "code",
   "execution_count": 2,
   "metadata": {
    "scrolled": true
   },
   "outputs": [],
   "source": [
    "import requests as re\n",
    "from bs4 import BeautifulSoup\n",
    "import pandas as pd\n",
    "\n",
    "\n",
    "base_url = 'https://kwhazit.ucoz.net/trans/ff6/'\n",
    "next_page = '01intro.html'\n",
    "rows = []\n",
    "while next_page != 'index.html': \n",
    "#     print(next_page)\n",
    "    page = re.get(base_url + next_page)\n",
    "    soup = BeautifulSoup(page.content, 'html.parser')\n",
    "    rows.extend(soup.find_all('tr'))\n",
    "    next_page = soup.find('div', class_='next').find('a').attrs['href']"
   ]
  },
  {
   "cell_type": "code",
   "execution_count": 32,
   "metadata": {},
   "outputs": [],
   "source": [
    "jp = []  # japanese text\n",
    "tw = []  # ted woolsey's translation\n",
    "kw = []  # kwhazit's translation\n",
    "\n",
    "\n",
    "for i, row in enumerate(rows):\n",
    "    td = row.find_all('td')\n",
    "    if len(td) not in [3, 4]:\n",
    "        continue\n",
    "    jp.append(td[1].text)\n",
    "    tw.append(td[2].text)\n",
    "    kw.append(td[3].text)"
   ]
  },
  {
   "cell_type": "code",
   "execution_count": 17,
   "metadata": {},
   "outputs": [],
   "source": [
    "df = pd.DataFrame({'jp': jp, 'tw': tw, 'kw': kw})"
   ]
  },
  {
   "cell_type": "code",
   "execution_count": 19,
   "metadata": {},
   "outputs": [],
   "source": [
    "df.to_csv('scripts.csv', index=False)"
   ]
  },
  {
   "cell_type": "code",
   "execution_count": 18,
   "metadata": {},
   "outputs": [],
   "source": [
    "from laserembeddings import Laser\n",
    "\n",
    "laser = Laser()\n",
    "\n",
    "embeddings = laser.embed_sentences(df['tw'], lang='eng')"
   ]
  }
 ],
 "metadata": {
  "kernelspec": {
   "display_name": "Python 3",
   "language": "python",
   "name": "python3"
  },
  "language_info": {
   "codemirror_mode": {
    "name": "ipython",
    "version": 3
   },
   "file_extension": ".py",
   "mimetype": "text/x-python",
   "name": "python",
   "nbconvert_exporter": "python",
   "pygments_lexer": "ipython3",
   "version": "3.6.10"
  }
 },
 "nbformat": 4,
 "nbformat_minor": 4
}
